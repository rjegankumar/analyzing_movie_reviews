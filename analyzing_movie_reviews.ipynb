{
 "cells": [
  {
   "cell_type": "markdown",
   "metadata": {},
   "source": [
    "# Analyzing Movie Reviews"
   ]
  },
  {
   "cell_type": "markdown",
   "metadata": {},
   "source": [
    "## Data description"
   ]
  },
  {
   "cell_type": "markdown",
   "metadata": {},
   "source": [
    "The dataset is stored in the fandango_score_comparison.csv file. It contains information on how major movie review services rated movies. The data originally came from https://fivethirtyeight.com/features/fandango-movies-ratings/.\n",
    "\n",
    "Each row represents a single movie. Each column contains information about how the online moview review services RottenTomatoes, Metacritic, IMDB, and Fandango rated the movie. The dataset was put together to help detect bias in the movie review sites. Each of these sites has 2 types of score -- User scores, which aggregate user reviews, and Critic score, which aggregate professional critical reviews of the movie. Each service puts their ratings on a different scale:\n",
    "\n",
    "* RottenTomatoes - 0-100, in increments of 1.\n",
    "* Metacritic - 0-100, in increments of 1.\n",
    "* IMDB - 0-10, in increments of .1.\n",
    "* Fandango - 0-5, in increments of .5.\n",
    "\n",
    "Here are descriptions of some of the relevant columns in the dataset:\n",
    "\n",
    "* FILM -- the name of the movie.\n",
    "* RottenTomatoes -- the RottenTomatoes (RT) critic score.\n",
    "* RottenTomatoes_User -- the RT user score.\n",
    "* Metacritic -- the Metacritic critic score.\n",
    "* Metacritic_User -- the Metacritic user score.\n",
    "* IMDB -- the IMDB score given to the movie.\n",
    "* Fandango_Stars -- the number of stars Fandango gave the movie.\n",
    "\n",
    "To make it easier to compare scores across services, the columns were normalized so their scale and rounding matched the Fandango ratings. Any column with the suffix _norm is the corresponding column changed to a 0-5 scale. For example, RT_norm takes the RottenTomatoes column and turns it into a 0-5 scale from a 0-100 scale. Any column with the suffix _round is the rounded version of another column. For example, RT_user_norm_round rounds the RT_user_norm column to the nearest .5."
   ]
  },
  {
   "cell_type": "markdown",
   "metadata": {},
   "source": [
    "## Reading in and exploring the dataset"
   ]
  },
  {
   "cell_type": "code",
   "execution_count": 31,
   "metadata": {
    "collapsed": true
   },
   "outputs": [],
   "source": [
    "import pandas as pd"
   ]
  },
  {
   "cell_type": "code",
   "execution_count": 32,
   "metadata": {
    "collapsed": true
   },
   "outputs": [],
   "source": [
    "movie_reviews = pd.read_csv('fandango_score_comparison.csv')"
   ]
  },
  {
   "cell_type": "code",
   "execution_count": 33,
   "metadata": {
    "collapsed": false
   },
   "outputs": [
    {
     "name": "stdout",
     "output_type": "stream",
     "text": [
      "                             FILM  RottenTomatoes  RottenTomatoes_User  \\\n",
      "0  Avengers: Age of Ultron (2015)              74                   86   \n",
      "1               Cinderella (2015)              85                   80   \n",
      "2                  Ant-Man (2015)              80                   90   \n",
      "3          Do You Believe? (2015)              18                   84   \n",
      "4   Hot Tub Time Machine 2 (2015)              14                   28   \n",
      "\n",
      "   Metacritic  Metacritic_User  IMDB  Fandango_Stars  Fandango_Ratingvalue  \\\n",
      "0          66              7.1   7.8             5.0                   4.5   \n",
      "1          67              7.5   7.1             5.0                   4.5   \n",
      "2          64              8.1   7.8             5.0                   4.5   \n",
      "3          22              4.7   5.4             5.0                   4.5   \n",
      "4          29              3.4   5.1             3.5                   3.0   \n",
      "\n",
      "   RT_norm  RT_user_norm         ...           IMDB_norm  RT_norm_round  \\\n",
      "0     3.70           4.3         ...                3.90            3.5   \n",
      "1     4.25           4.0         ...                3.55            4.5   \n",
      "2     4.00           4.5         ...                3.90            4.0   \n",
      "3     0.90           4.2         ...                2.70            1.0   \n",
      "4     0.70           1.4         ...                2.55            0.5   \n",
      "\n",
      "   RT_user_norm_round  Metacritic_norm_round  Metacritic_user_norm_round  \\\n",
      "0                 4.5                    3.5                         3.5   \n",
      "1                 4.0                    3.5                         4.0   \n",
      "2                 4.5                    3.0                         4.0   \n",
      "3                 4.0                    1.0                         2.5   \n",
      "4                 1.5                    1.5                         1.5   \n",
      "\n",
      "   IMDB_norm_round  Metacritic_user_vote_count  IMDB_user_vote_count  \\\n",
      "0              4.0                        1330                271107   \n",
      "1              3.5                         249                 65709   \n",
      "2              4.0                         627                103660   \n",
      "3              2.5                          31                  3136   \n",
      "4              2.5                          88                 19560   \n",
      "\n",
      "   Fandango_votes  Fandango_Difference  \n",
      "0           14846                  0.5  \n",
      "1           12640                  0.5  \n",
      "2           12055                  0.5  \n",
      "3            1793                  0.5  \n",
      "4            1021                  0.5  \n",
      "\n",
      "[5 rows x 22 columns]\n"
     ]
    }
   ],
   "source": [
    "print(movie_reviews.head())"
   ]
  },
  {
   "cell_type": "code",
   "execution_count": 34,
   "metadata": {
    "collapsed": false
   },
   "outputs": [
    {
     "data": {
      "text/plain": [
       "Index(['FILM', 'RottenTomatoes', 'RottenTomatoes_User', 'Metacritic',\n",
       "       'Metacritic_User', 'IMDB', 'Fandango_Stars', 'Fandango_Ratingvalue',\n",
       "       'RT_norm', 'RT_user_norm', 'Metacritic_norm', 'Metacritic_user_nom',\n",
       "       'IMDB_norm', 'RT_norm_round', 'RT_user_norm_round',\n",
       "       'Metacritic_norm_round', 'Metacritic_user_norm_round',\n",
       "       'IMDB_norm_round', 'Metacritic_user_vote_count', 'IMDB_user_vote_count',\n",
       "       'Fandango_votes', 'Fandango_Difference'],\n",
       "      dtype='object')"
      ]
     },
     "execution_count": 34,
     "metadata": {},
     "output_type": "execute_result"
    }
   ],
   "source": [
    "movie_reviews.columns"
   ]
  },
  {
   "cell_type": "markdown",
   "metadata": {},
   "source": [
    "## Comparing Fandango and Metacritic ratings"
   ]
  },
  {
   "cell_type": "code",
   "execution_count": 35,
   "metadata": {
    "collapsed": true
   },
   "outputs": [],
   "source": [
    "import matplotlib.pyplot as plt\n",
    "%matplotlib inline"
   ]
  },
  {
   "cell_type": "code",
   "execution_count": 36,
   "metadata": {
    "collapsed": false
   },
   "outputs": [
    {
     "data": {
      "image/png": "[encoded data removed]",
      "text/plain": [
       "<matplotlib.figure.Figure at 0x11273a320>"
      ]
     },
     "metadata": {},
     "output_type": "display_data"
    }
   ],
   "source": [
    "plt.hist(movie_reviews['Fandango_Stars'])\n",
    "plt.show()"
   ]
  },
  {
   "cell_type": "code",
   "execution_count": 37,
   "metadata": {
    "collapsed": false
   },
   "outputs": [
    {
     "data": {
      "image/png": "[encoded data removed]",
      "text/plain": [
       "<matplotlib.figure.Figure at 0x1128a1748>"
      ]
     },
     "metadata": {},
     "output_type": "display_data"
    }
   ],
   "source": [
    "plt.hist(movie_reviews['Metacritic_norm_round'])\n",
    "plt.show()"
   ]
  },
  {
   "cell_type": "markdown",
   "metadata": {},
   "source": [
    "### Observations\n",
    "\n",
    "Fandango Stars rating distribution is in more discrete chunks in comparison to the Metacritic normalized rounded critic ratings. This I believe is the result of rounding up the ratings instead of rounding to the closest value. All of Fandango's ratings are above 3, whereas a significant portion of Metacritic's rating are below 3, ~30% - 40%. Significant portion of Fandango's ratings are above 4, ~60% -70%, whereas a very small portion of Metacritic's rating are above 4, ~20%. Fandango's distribution is relatively more negatively skewed than Metacritic's. It seems like Fandango's reviews are biased, in general their ratings are relatively higher than Metacritic's.   "
   ]
  },
  {
   "cell_type": "code",
   "execution_count": 38,
   "metadata": {
    "collapsed": false
   },
   "outputs": [
    {
     "data": {
      "text/plain": [
       "count    146.000000\n",
       "mean       4.089041\n",
       "std        0.540386\n",
       "min        3.000000\n",
       "25%        3.500000\n",
       "50%        4.000000\n",
       "75%        4.500000\n",
       "max        5.000000\n",
       "Name: Fandango_Stars, dtype: float64"
      ]
     },
     "execution_count": 38,
     "metadata": {},
     "output_type": "execute_result"
    }
   ],
   "source": [
    "movie_reviews['Fandango_Stars'].describe()"
   ]
  },
  {
   "cell_type": "code",
   "execution_count": 39,
   "metadata": {
    "collapsed": false
   },
   "outputs": [
    {
     "data": {
      "text/plain": [
       "count    146.000000\n",
       "mean       2.972603\n",
       "std        0.990961\n",
       "min        0.500000\n",
       "25%        2.125000\n",
       "50%        3.000000\n",
       "75%        4.000000\n",
       "max        4.500000\n",
       "Name: Metacritic_norm_round, dtype: float64"
      ]
     },
     "execution_count": 39,
     "metadata": {},
     "output_type": "execute_result"
    }
   ],
   "source": [
    "movie_reviews['Metacritic_norm_round'].describe()"
   ]
  },
  {
   "cell_type": "markdown",
   "metadata": {},
   "source": [
    "### Observations\n",
    "\n",
    "Mean - Fandango's is ~33% higher than Metacritic's\n",
    "\n",
    "Standard deviation - Fandango's is ~50% of Metacritic's, suggesting much less spread or variation\n",
    "\n",
    "Median - Fandango's is ~33% higher than Metacritic's, same as mean\n",
    "\n",
    "It is also interesting to note that Fandango's median is higher than it's mean, indicating that there are a larger number of higher values. It's the other way around for Metacritic's ratings."
   ]
  },
  {
   "cell_type": "markdown",
   "metadata": {},
   "source": [
    "## Analyzing correlation between Fandango and Metacritic ratings"
   ]
  },
  {
   "cell_type": "code",
   "execution_count": 40,
   "metadata": {
    "collapsed": false
   },
   "outputs": [
    {
     "data": {
      "image/png": "[encoded data removed]",
      "text/plain": [
       "<matplotlib.figure.Figure at 0x1128d3ba8>"
      ]
     },
     "metadata": {},
     "output_type": "display_data"
    }
   ],
   "source": [
    "plt.scatter(movie_reviews['Metacritic_norm_round'], movie_reviews['Fandango_Stars'])\n",
    "plt.show()"
   ]
  },
  {
   "cell_type": "code",
   "execution_count": 41,
   "metadata": {
    "collapsed": true
   },
   "outputs": [],
   "source": [
    "import numpy as np"
   ]
  },
  {
   "cell_type": "code",
   "execution_count": 42,
   "metadata": {
    "collapsed": false
   },
   "outputs": [
    {
     "name": "stdout",
     "output_type": "stream",
     "text": [
      "                        FILM  RottenTomatoes  RottenTomatoes_User  Metacritic  \\\n",
      "3     Do You Believe? (2015)              18                   84          22   \n",
      "85         Little Boy (2015)              20                   81          30   \n",
      "47              Annie (2014)              27                   61          33   \n",
      "19             Pixels (2015)              17                   54          27   \n",
      "134  The Longest Ride (2015)              31                   73          33   \n",
      "\n",
      "     Metacritic_User  IMDB  Fandango_Stars  Fandango_Ratingvalue  RT_norm  \\\n",
      "3                4.7   5.4             5.0                   4.5     0.90   \n",
      "85               5.9   7.4             4.5                   4.3     1.00   \n",
      "47               4.8   5.2             4.5                   4.2     1.35   \n",
      "19               5.3   5.6             4.5                   4.1     0.85   \n",
      "134              4.8   7.2             4.5                   4.5     1.55   \n",
      "\n",
      "     RT_user_norm   ...     RT_norm_round  RT_user_norm_round  \\\n",
      "3            4.20   ...               1.0                 4.0   \n",
      "85           4.05   ...               1.0                 4.0   \n",
      "47           3.05   ...               1.5                 3.0   \n",
      "19           2.70   ...               1.0                 2.5   \n",
      "134          3.65   ...               1.5                 3.5   \n",
      "\n",
      "     Metacritic_norm_round  Metacritic_user_norm_round  IMDB_norm_round  \\\n",
      "3                      1.0                         2.5              2.5   \n",
      "85                     1.5                         3.0              3.5   \n",
      "47                     1.5                         2.5              2.5   \n",
      "19                     1.5                         2.5              3.0   \n",
      "134                    1.5                         2.5              3.5   \n",
      "\n",
      "     Metacritic_user_vote_count  IMDB_user_vote_count  Fandango_votes  \\\n",
      "3                            31                  3136            1793   \n",
      "85                           38                  5927             811   \n",
      "47                          108                 19222            6835   \n",
      "19                          246                 19521            3886   \n",
      "134                          49                 25214            2603   \n",
      "\n",
      "     Fandango_Difference  fm_diff  \n",
      "3                    0.5      4.0  \n",
      "85                   0.2      3.0  \n",
      "47                   0.3      3.0  \n",
      "19                   0.4      3.0  \n",
      "134                  0.0      3.0  \n",
      "\n",
      "[5 rows x 23 columns]\n"
     ]
    },
    {
     "name": "stderr",
     "output_type": "stream",
     "text": [
      "/Users/jeganram/anaconda/lib/python3.5/site-packages/ipykernel/__main__.py:2: FutureWarning: sort(columns=....) is deprecated, use sort_values(by=.....)\n",
      "  from ipykernel import kernelapp as app\n"
     ]
    }
   ],
   "source": [
    "movie_reviews['fm_diff'] = np.absolute(movie_reviews['Metacritic_norm_round'] - movie_reviews['Fandango_Stars'])\n",
    "movie_reviews = movie_reviews.sort('fm_diff', ascending = False)\n",
    "print(movie_reviews.head(5))"
   ]
  },
  {
   "cell_type": "code",
   "execution_count": 43,
   "metadata": {
    "collapsed": true
   },
   "outputs": [],
   "source": [
    "from scipy.stats import pearsonr\n",
    "from scipy.stats import linregress"
   ]
  },
  {
   "cell_type": "code",
   "execution_count": 44,
   "metadata": {
    "collapsed": false
   },
   "outputs": [
    {
     "data": {
      "text/plain": [
       "0.17844919073895918"
      ]
     },
     "execution_count": 44,
     "metadata": {},
     "output_type": "execute_result"
    }
   ],
   "source": [
    "[r, p] = pearsonr(movie_reviews['Metacritic_norm_round'], movie_reviews['Fandango_Stars'])\n",
    "r"
   ]
  },
  {
   "cell_type": "markdown",
   "metadata": {},
   "source": [
    "### Observations\n",
    "\n",
    "Pearson r correlation coefficient above is low, this means there is a weak or no correlation between the Fandango and Metacritic ratings. We would expect the correlation to be medium to very strong and positive, as Metacritic's rating increases or decreases so does Fandango's, but that's not the case here."
   ]
  },
  {
   "cell_type": "markdown",
   "metadata": {},
   "source": [
    "## Predicting Fandango rating from Metacritic's"
   ]
  },
  {
   "cell_type": "code",
   "execution_count": 45,
   "metadata": {
    "collapsed": false
   },
   "outputs": [
    {
     "data": {
      "text/plain": [
       "[0.09731107797392835,\n",
       " 3.7997739188994188,\n",
       " 0.17844919073895896,\n",
       " 0.031161516228524269,\n",
       " 0.044713544656798297]"
      ]
     },
     "execution_count": 45,
     "metadata": {},
     "output_type": "execute_result"
    }
   ],
   "source": [
    "[m, b, r, p, std_err] = linregress(movie_reviews['Metacritic_norm_round'], movie_reviews['Fandango_Stars'])\n",
    "[m, b, r, p, std_err]"
   ]
  },
  {
   "cell_type": "code",
   "execution_count": 46,
   "metadata": {
    "collapsed": false
   },
   "outputs": [
    {
     "data": {
      "text/plain": [
       "4.0917071528212041"
      ]
     },
     "execution_count": 46,
     "metadata": {},
     "output_type": "execute_result"
    }
   ],
   "source": [
    "m*3 + b"
   ]
  },
  {
   "cell_type": "code",
   "execution_count": 47,
   "metadata": {
    "collapsed": false
   },
   "outputs": [
    {
     "data": {
      "text/plain": [
       "array([ 3.897085  ,  4.28632931])"
      ]
     },
     "execution_count": 47,
     "metadata": {},
     "output_type": "execute_result"
    }
   ],
   "source": [
    "mt = np.array([1.0, 5.0])\n",
    "fg = m*mt + b\n",
    "fg"
   ]
  },
  {
   "cell_type": "code",
   "execution_count": 48,
   "metadata": {
    "collapsed": false
   },
   "outputs": [
    {
     "data": {
      "image/png": "[encoded data removed]",
      "text/plain": [
       "<matplotlib.figure.Figure at 0x112a24be0>"
      ]
     },
     "metadata": {},
     "output_type": "display_data"
    }
   ],
   "source": [
    "plt.scatter(movie_reviews['Metacritic_norm_round'], movie_reviews['Fandango_Stars'])\n",
    "plt.plot(mt, fg)\n",
    "plt.xlim(1.0,5.0)\n",
    "plt.ylim(1.0,5.0)\n",
    "plt.show()"
   ]
  },
  {
   "cell_type": "markdown",
   "metadata": {},
   "source": [
    "## Potential next steps\n",
    "\n",
    "Explore the other rating services, IMDB and RottenTomatoes.\n",
    "See how they differ from each other.\n",
    "See how they differ from Fandango.\n",
    "See how user scores differ from critic scores.\n",
    "Acquire more recent review data, and see if the pattern of Fandango inflating reviews persists.\n",
    "Dig more into why certain movies had their scores inflated more than others."
   ]
  }
 ],
 "metadata": {
  "kernelspec": {
   "display_name": "Python [default]",
   "language": "python",
   "name": "python3"
  },
  "language_info": {
   "codemirror_mode": {
    "name": "ipython",
    "version": 3
   },
   "file_extension": ".py",
   "mimetype": "text/x-python",
   "name": "python",
   "nbconvert_exporter": "python",
   "pygments_lexer": "ipython3",
   "version": "3.5.2"
  }
 },
 "nbformat": 4,
 "nbformat_minor": 0
}
